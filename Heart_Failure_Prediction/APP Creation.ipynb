{
 "cells": [
  {
   "cell_type": "code",
   "execution_count": 1,
   "id": "c4b208c3",
   "metadata": {},
   "outputs": [],
   "source": [
    "import numpy as np \n",
    "import pandas as pd\n",
    "import pickle\n",
    "from sklearn.model_selection import train_test_split\n",
    "from sklearn.ensemble import RandomForestClassifier\n",
    "from sklearn.datasets import make_classification\n",
    "from sklearn.metrics import accuracy_score"
   ]
  },
  {
   "cell_type": "code",
   "execution_count": 2,
   "id": "8b707377",
   "metadata": {},
   "outputs": [
    {
     "name": "stdout",
     "output_type": "stream",
     "text": [
      "XGBoost Classifier: 0.9666666666666667\n"
     ]
    }
   ],
   "source": [
    "import pickle\n",
    "import pandas as pd\n",
    "import numpy as np\n",
    "from sklearn.preprocessing import PowerTransformer\n",
    "from xgboost import XGBClassifier\n",
    "from sklearn.model_selection import train_test_split\n",
    "\n",
    "df = pd.read_csv(\"heart_failure_clinical_records_dataset.csv\")\n",
    "\n",
    "t = np.array(list(df['creatinine_phosphokinase'])).reshape(-1, 1)\n",
    "pt = PowerTransformer(method = \"yeo-johnson\")\n",
    "creatinine_phosphokinase = pt.fit_transform(t)\n",
    "df['creatinine_phosphokinase'] = creatinine_phosphokinase\n",
    "\n",
    "t = np.array(list(df['serum_creatinine'])).reshape(-1, 1)\n",
    "pt = PowerTransformer(method = \"yeo-johnson\")\n",
    "serum_creatinine = pt.fit_transform(t)\n",
    "df['serum_creatinine'] = serum_creatinine\n",
    "\n",
    "df.drop(columns = ['sex', 'diabetes'], inplace = True)\n",
    "X = df.iloc[:, 0:10].values\n",
    "Y = df['DEATH_EVENT'].values\n",
    "\n",
    "x_train, x_test, y_train, y_test = train_test_split(X, Y, test_size=0.1, random_state=6)\n",
    "\n",
    "xclf = XGBClassifier()\n",
    "xclf.fit(x_train, y_train)\n",
    "\n",
    "pickle.dump(xclf, open('xclf.pkl', 'wb'))\n",
    "\n",
    "clf = pickle.load(open('xclf.pkl', 'rb'))\n",
    "print(\"XGBoost Classifier:\",clf.score(x_test, y_test))"
   ]
  },
  {
   "cell_type": "code",
   "execution_count": 3,
   "id": "c00519c1",
   "metadata": {},
   "outputs": [],
   "source": [
    "from flask import Flask, render_template, request\n",
    "import pickle\n",
    "import numpy as np\n",
    "\n",
    "app = Flask(__name__)\n",
    "model = pickle.load(open('Pkl_Model.pkl', 'rb'))"
   ]
  },
  {
   "cell_type": "code",
   "execution_count": 4,
   "id": "459be085",
   "metadata": {},
   "outputs": [],
   "source": [
    "@app.route('/')\n",
    "@app.route('/index.html')\n",
    "def home():\n",
    "    return render_template(\"index.html\")"
   ]
  },
  {
   "cell_type": "code",
   "execution_count": 5,
   "id": "fdd76874",
   "metadata": {},
   "outputs": [],
   "source": [
    "\n",
    "@app.route('/formdata.html')\n",
    "def form():\n",
    "    return render_template(\"formdata.html\")"
   ]
  },
  {
   "cell_type": "code",
   "execution_count": 6,
   "id": "431b3fde",
   "metadata": {},
   "outputs": [],
   "source": [
    "\n",
    "@app.route('/result.html')\n",
    "def result():\n",
    "    return render_template(\"result.html\")\n",
    "\n",
    "@app.route('/about.html')\n",
    "def about():\n",
    "    return render_template(\"about.html\")"
   ]
  },
  {
   "cell_type": "code",
   "execution_count": 7,
   "id": "0a7200e6",
   "metadata": {},
   "outputs": [],
   "source": [
    "@app.route('/predict', methods=['POST'])\n",
    "def prediction():\n",
    "    data1 = request.form['a']\n",
    "    data2 = request.form['b']\n",
    "    arr = np.array([[data1, data2]])\n",
    "    # Predict the Model   \n",
    "    pred = model.predict(arr)\n",
    "    #print(\"Result: {0:.2f} %\".format(100 * predict)) \n",
    "    return render_template('result.html', data=pred)"
   ]
  },
  {
   "cell_type": "code",
   "execution_count": 8,
   "id": "05f22d3e",
   "metadata": {},
   "outputs": [],
   "source": [
    "\n",
    "if __name__ == \"__main__\":\n",
    "    from flask import Flask, render_template, request\n",
    "import pickle\n",
    "import numpy as np\n",
    "\n",
    "app = Flask(__name__)\n",
    "\n",
    "model = pickle.load(open('Pkl_Model.pkl', 'rb'))"
   ]
  },
  {
   "cell_type": "code",
   "execution_count": 9,
   "id": "0f5c7ac3",
   "metadata": {},
   "outputs": [],
   "source": [
    "\n",
    "@app.route('/')\n",
    "@app.route('/index.html')\n",
    "def home():\n",
    "    return render_template(\"index.html\")"
   ]
  },
  {
   "cell_type": "code",
   "execution_count": 10,
   "id": "3b291e08",
   "metadata": {},
   "outputs": [],
   "source": [
    "\n",
    "\n",
    "@app.route('/formdata.html')\n",
    "def form():\n",
    "    return render_template(\"formdata.html\")\n",
    "\n",
    "@app.route('/result.html')\n",
    "def result():\n",
    "    return render_template(\"result.html\")"
   ]
  },
  {
   "cell_type": "code",
   "execution_count": 11,
   "id": "1de6b31e",
   "metadata": {},
   "outputs": [],
   "source": [
    "@app.route('/about.html')\n",
    "def about():\n",
    "    return render_template(\"about.html\")\n",
    "\n",
    "@app.route('/predict', methods=['POST'])\n",
    "def prediction():\n",
    "    data1 = request.form['a']\n",
    "    data2 = request.form['b']\n",
    "    data3 = request.form['c']\n",
    "    arr = np.array([[data1, data2,data3]])\n",
    "    # Predict the Model   \n",
    "    pred = model.predict(arr)\n",
    "    #print(\"Result: {0:.2f} %\".format(100 * predict)) \n",
    "    return render_template('result.html', data=pred)"
   ]
  },
  {
   "cell_type": "code",
   "execution_count": null,
   "id": "58a6a454",
   "metadata": {},
   "outputs": [
    {
     "name": "stdout",
     "output_type": "stream",
     "text": [
      " * Serving Flask app \"__main__\" (lazy loading)\n",
      " * Environment: production\n",
      "   WARNING: This is a development server. Do not use it in a production deployment.\n",
      "   Use a production WSGI server instead.\n",
      " * Debug mode: off\n"
     ]
    },
    {
     "name": "stderr",
     "output_type": "stream",
     "text": [
      " * Running on http://127.0.0.1:5000/ (Press CTRL+C to quit)\n"
     ]
    }
   ],
   "source": [
    "if __name__ == \"__main__\":\n",
    "    app.run(debug=False)"
   ]
  },
  {
   "cell_type": "code",
   "execution_count": null,
   "id": "69e94620",
   "metadata": {},
   "outputs": [],
   "source": []
  },
  {
   "cell_type": "code",
   "execution_count": null,
   "id": "6ea601d3",
   "metadata": {},
   "outputs": [],
   "source": []
  },
  {
   "cell_type": "code",
   "execution_count": null,
   "id": "8dfb0b6e",
   "metadata": {},
   "outputs": [],
   "source": []
  }
 ],
 "metadata": {
  "kernelspec": {
   "display_name": "Python 3",
   "language": "python",
   "name": "python3"
  },
  "language_info": {
   "codemirror_mode": {
    "name": "ipython",
    "version": 3
   },
   "file_extension": ".py",
   "mimetype": "text/x-python",
   "name": "python",
   "nbconvert_exporter": "python",
   "pygments_lexer": "ipython3",
   "version": "3.8.8"
  }
 },
 "nbformat": 4,
 "nbformat_minor": 5
}
